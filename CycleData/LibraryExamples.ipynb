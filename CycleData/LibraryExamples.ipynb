{
 "cells": [
  {
   "cell_type": "code",
   "execution_count": 1,
   "metadata": {
    "collapsed": false
   },
   "outputs": [],
   "source": [
    "import cycledata as cd\n",
    "import pandas as pd\n",
    "import numpy as np\n",
    "import seaborn\n",
    "%matplotlib inline"
   ]
  },
  {
   "cell_type": "code",
   "execution_count": null,
   "metadata": {
    "collapsed": false
   },
   "outputs": [],
   "source": [
    "# Import seperated weeks for all years\n",
    "WD = {}\n",
    "WE = {}\n",
    "WD, WE = cd.Import('split')"
   ]
  },
  {
   "cell_type": "code",
   "execution_count": null,
   "metadata": {
    "collapsed": false
   },
   "outputs": [],
   "source": [
    "# Import daily counts for all years\n",
    "WDdays = {}\n",
    "WEdays = {}\n",
    "WDdays, WEdays = cd.Import('daily')"
   ]
  },
  {
   "cell_type": "code",
   "execution_count": null,
   "metadata": {
    "collapsed": true
   },
   "outputs": [],
   "source": [
    "# Import Multi-Year Daily Usage\n",
    "WDs, WEs = Import('multi')"
   ]
  },
  {
   "cell_type": "code",
   "execution_count": 2,
   "metadata": {
    "collapsed": false
   },
   "outputs": [
    {
     "name": "stdout",
     "output_type": "stream",
     "text": [
      "Reading: 2012FullYear.csv\n",
      "Reading: 2013FullYear.csv\n",
      "Reading: 2014FullYear.csv\n",
      "Reading: 2015FullYear.csv\n",
      "Reading: 2016FullYear.csv\n"
     ]
    }
   ],
   "source": [
    "# Import Full Years (non-separated weeks)\n",
    "FullYear = {}\n",
    "FullYear = cd.Import('fullyear')"
   ]
  },
  {
   "cell_type": "code",
   "execution_count": 3,
   "metadata": {
    "collapsed": true
   },
   "outputs": [],
   "source": [
    "year15 = FullYear['2015'].copy()\n",
    "year15.sort_values('s_date', inplace=True)\n",
    "year15.set_index(year15.s_date, drop=True, inplace=True)\n",
    "DF = year15[:'18-12-2015'].copy()\n",
    "# Find nearest Sunday\n",
    "j = 1\n",
    "while(int(DF[-j:(len(DF) - j + 1)].index.dayofweek) != 6):\n",
    "    j += 1\n",
    "DF = DF[:(-j+1)]\n",
    "# 4 week section of 2015 to be used for modelling an validation\n",
    "recent = DF.last('4W')\n",
    "# 10 weekends section of 2015 to be used for modelling and validation\n",
    "recentWE = DF.last('5W')"
   ]
  },
  {
   "cell_type": "code",
   "execution_count": 4,
   "metadata": {
    "collapsed": true
   },
   "outputs": [],
   "source": [
    "output, absent, errors = cd.RunWEModel(recentWE)"
   ]
  },
  {
   "cell_type": "code",
   "execution_count": null,
   "metadata": {
    "collapsed": false
   },
   "outputs": [],
   "source": [
    "# Create Seasonal Indexes\n",
    "WDseasons, WEseasons = cd.GetSeasonalIndex()"
   ]
  },
  {
   "cell_type": "code",
   "execution_count": null,
   "metadata": {
    "collapsed": false
   },
   "outputs": [],
   "source": [
    "# Find most recent 2 weeks\n",
    "recent = cd.RecentFull(FullYear)\n",
    "recent.info()"
   ]
  },
  {
   "cell_type": "code",
   "execution_count": null,
   "metadata": {
    "collapsed": false
   },
   "outputs": [],
   "source": [
    "# Find most recent 2 weeks of data to Model\n",
    "recentWD, recentWE = cd.Recent(WD, WE)\n",
    "recentWD.info()\n",
    "recentWE.info()"
   ]
  },
  {
   "cell_type": "code",
   "execution_count": null,
   "metadata": {
    "collapsed": false
   },
   "outputs": [],
   "source": [
    "# Model subset of data for individual station\n",
    "FullModel = cd.Model(recent, 14)\n",
    "FullModel.PreProcess(separate=True)\n",
    "FullModel.WD.head()"
   ]
  },
  {
   "cell_type": "code",
   "execution_count": null,
   "metadata": {
    "collapsed": false
   },
   "outputs": [],
   "source": [
    "# Adjust any overlaps within the year frames\n",
    "FY = {}\n",
    "WD = {}\n",
    "WE = {}\n",
    "FY, WD, WE = cd.AdjustOverlap(FullYear)"
   ]
  },
  {
   "cell_type": "code",
   "execution_count": null,
   "metadata": {
    "collapsed": false
   },
   "outputs": [],
   "source": [
    "# Create daily average of yearframes\n",
    "WDdaily, WEdaily = cd.YearsDaily(WD, WE)"
   ]
  },
  {
   "cell_type": "code",
   "execution_count": null,
   "metadata": {
    "collapsed": false
   },
   "outputs": [],
   "source": [
    "# Fetch AddressBook and stations missing from addressbook\n",
    "addressbook, missingStations = cd.GetAddressBook()"
   ]
  },
  {
   "cell_type": "code",
   "execution_count": null,
   "metadata": {
    "collapsed": true
   },
   "outputs": [],
   "source": [
    "# Read AddressBook \n",
    "addressbook = pd.read_csv(\"Bike_Stations.csv\")"
   ]
  },
  {
   "cell_type": "code",
   "execution_count": null,
   "metadata": {
    "collapsed": false
   },
   "outputs": [],
   "source": [
    "# Create Distances matrix (WARNING: long runtime ~30mins)\n",
    "distances = cd.GetDistances(addressbook)"
   ]
  },
  {
   "cell_type": "code",
   "execution_count": null,
   "metadata": {
    "collapsed": true
   },
   "outputs": [],
   "source": [
    "# Read Distances matrix\n",
    "distances = pd.read_csv(\"Bike_Station_Distances.csv\", index_col=0)"
   ]
  },
  {
   "cell_type": "code",
   "execution_count": null,
   "metadata": {
    "collapsed": false
   },
   "outputs": [],
   "source": [
    "# Create test dataframe of a single day from recent (may need to adjust date)\n",
    "testday = recent['28-2-2016'].copy().reset_index(drop=True)"
   ]
  },
  {
   "cell_type": "code",
   "execution_count": null,
   "metadata": {
    "collapsed": false
   },
   "outputs": [],
   "source": [
    "# Create adjacency matrix of testday 08:00 - 09:00\n",
    "adjacency, am_peak = cd.Transform(testday, 32, 36)"
   ]
  },
  {
   "cell_type": "code",
   "execution_count": null,
   "metadata": {
    "collapsed": false
   },
   "outputs": [],
   "source": [
    "# Calculate average speeds for testday (WARNING: can be long runtime)\n",
    "updated = cd.CalcSpeeds(testday)"
   ]
  },
  {
   "cell_type": "code",
   "execution_count": null,
   "metadata": {
    "collapsed": false
   },
   "outputs": [],
   "source": [
    "# Run SARIMA model of Weekdays using most recent dataframe\n",
    "output, absent, errors = cd.RunWDModel(recent)"
   ]
  },
  {
   "cell_type": "code",
   "execution_count": null,
   "metadata": {
    "collapsed": true
   },
   "outputs": [],
   "source": [
    "# Run Weekend models using most recent dataframe\n",
    "output, absent, errors = cd.RunWEModel(recent)"
   ]
  }
 ],
 "metadata": {
  "kernelspec": {
   "display_name": "Python 3",
   "language": "python",
   "name": "python3"
  },
  "language_info": {
   "codemirror_mode": {
    "name": "ipython",
    "version": 3
   },
   "file_extension": ".py",
   "mimetype": "text/x-python",
   "name": "python",
   "nbconvert_exporter": "python",
   "pygments_lexer": "ipython3",
   "version": "3.4.4"
  }
 },
 "nbformat": 4,
 "nbformat_minor": 0
}
